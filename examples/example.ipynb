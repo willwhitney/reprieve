{
 "cells": [
  {
   "cell_type": "markdown",
   "metadata": {},
   "source": [
    "## Run on Colab\n",
    "You can run this notebook on Colab right away without installing JAX dependencies: https://colab.research.google.com/github/willwhitney/reprieve/blob/master/examples/example.ipynb.\n",
    "\n",
    "## Run locally\n",
    "To run this notebook locally please install the [Reprieve dependencies](https://github.com/willwhitney/reprieve#dependencies), in particular JAX with GPU support."
   ]
  },
  {
   "cell_type": "code",
   "execution_count": null,
   "metadata": {},
   "outputs": [],
   "source": [
    "!pip install jax==0.1.75 jaxlib==0.1.52 -f https://storage.googleapis.com/jax-releases/jax_releases.html"
   ]
  },
  {
   "cell_type": "code",
   "execution_count": null,
   "metadata": {},
   "outputs": [],
   "source": [
    "!pip install flax==0.1.0 git+https://github.com/willwhitney/reprieve"
   ]
  },
  {
   "cell_type": "code",
   "execution_count": 2,
   "metadata": {},
   "outputs": [],
   "source": [
    "import os\n",
    "import pandas as pd\n",
    "\n",
    "import jax\n",
    "import torchvision\n",
    "\n",
    "import reprieve\n",
    "from reprieve.representations import mnist_vae\n",
    "from reprieve.mnist_noisy_label import MNISTNoisyLabelDataset\n",
    "from reprieve.algorithms import mlp as alg"
   ]
  },
  {
   "cell_type": "code",
   "execution_count": 3,
   "metadata": {},
   "outputs": [
    {
     "name": "stdout",
     "output_type": "stream",
     "text": [
      "Downloading http://yann.lecun.com/exdb/mnist/train-images-idx3-ubyte.gz to ./data/MNIST/raw/train-images-idx3-ubyte.gz\n"
     ]
    },
    {
     "data": {
      "application/vnd.jupyter.widget-view+json": {
       "model_id": "80a3ed478a6441388df8c44526016fc0",
       "version_major": 2,
       "version_minor": 0
      },
      "text/plain": [
       "HBox(children=(IntProgress(value=1, bar_style='info', max=1), HTML(value='')))"
      ]
     },
     "metadata": {},
     "output_type": "display_data"
    },
    {
     "name": "stdout",
     "output_type": "stream",
     "text": [
      "\n",
      "Extracting ./data/MNIST/raw/train-images-idx3-ubyte.gz to ./data/MNIST/raw\n",
      "Downloading http://yann.lecun.com/exdb/mnist/train-labels-idx1-ubyte.gz to ./data/MNIST/raw/train-labels-idx1-ubyte.gz\n"
     ]
    },
    {
     "data": {
      "application/vnd.jupyter.widget-view+json": {
       "model_id": "7cffb490986743c38cc46e98f3332d5a",
       "version_major": 2,
       "version_minor": 0
      },
      "text/plain": [
       "HBox(children=(IntProgress(value=1, bar_style='info', max=1), HTML(value='')))"
      ]
     },
     "metadata": {},
     "output_type": "display_data"
    },
    {
     "name": "stdout",
     "output_type": "stream",
     "text": [
      "\n",
      "Extracting ./data/MNIST/raw/train-labels-idx1-ubyte.gz to ./data/MNIST/raw\n",
      "Downloading http://yann.lecun.com/exdb/mnist/t10k-images-idx3-ubyte.gz to ./data/MNIST/raw/t10k-images-idx3-ubyte.gz\n"
     ]
    },
    {
     "data": {
      "application/vnd.jupyter.widget-view+json": {
       "model_id": "2fbfa8868c274acba236b90caafbdf39",
       "version_major": 2,
       "version_minor": 0
      },
      "text/plain": [
       "HBox(children=(IntProgress(value=1, bar_style='info', max=1), HTML(value='')))"
      ]
     },
     "metadata": {},
     "output_type": "display_data"
    },
    {
     "name": "stdout",
     "output_type": "stream",
     "text": [
      "\n",
      "Extracting ./data/MNIST/raw/t10k-images-idx3-ubyte.gz to ./data/MNIST/raw\n",
      "Downloading http://yann.lecun.com/exdb/mnist/t10k-labels-idx1-ubyte.gz to ./data/MNIST/raw/t10k-labels-idx1-ubyte.gz\n"
     ]
    },
    {
     "data": {
      "application/vnd.jupyter.widget-view+json": {
       "model_id": "3560b784374242fe9117e4fa12182519",
       "version_major": 2,
       "version_minor": 0
      },
      "text/plain": [
       "HBox(children=(IntProgress(value=1, bar_style='info', max=1), HTML(value='')))"
      ]
     },
     "metadata": {},
     "output_type": "display_data"
    },
    {
     "name": "stdout",
     "output_type": "stream",
     "text": [
      "\n",
      "Extracting ./data/MNIST/raw/t10k-labels-idx1-ubyte.gz to ./data/MNIST/raw\n",
      "Processing...\n",
      "Done!\n"
     ]
    }
   ],
   "source": [
    "# make an MNIST dataset\n",
    "dataset_mnist = torchvision.datasets.MNIST(\n",
    "    './data', train=True, download=True,\n",
    "    transform=torchvision.transforms.Compose([\n",
    "        torchvision.transforms.ToTensor(),\n",
    "        torchvision.transforms.Normalize((0.1307,), (0.3081,))]))"
   ]
  },
  {
   "cell_type": "code",
   "execution_count": null,
   "metadata": {
    "scrolled": true
   },
   "outputs": [],
   "source": [
    "# make an MLP algorithm which takes inputs of shape (1, 28, 28)\n",
    "# and has 10 output classes\n",
    "init_fn, train_step_fn, eval_fn = alg.make_algorithm((1, 28, 28), 10)\n",
    "\n",
    "# these functions initialize the state of the model given a seed, \n",
    "# train on a batch of data, \n",
    "# and evaluate on a batch of data\n",
    "\n",
    "# construct a loss-data estimator and use it to compute the loss-data curve\n",
    "raw_loss_data_estimator = reprieve.LossDataEstimator(\n",
    "    init_fn, train_step_fn, eval_fn, dataset_mnist)\n",
    "raw_results = raw_loss_data_estimator.compute_curve()"
   ]
  },
  {
   "cell_type": "code",
   "execution_count": null,
   "metadata": {
    "scrolled": true
   },
   "outputs": [],
   "source": [
    "# train a VAE with latent dimension 8\n",
    "vae_repr = mnist_vae.build_repr(8)\n",
    "\n",
    "# make an MLP algorithm which takes inputs of shape (8,) to match the VAE\n",
    "# and has 10 output classes\n",
    "init_fn, train_step_fn, eval_fn = alg.make_algorithm((8,), 10)\n",
    "\n",
    "# construct a loss-data estimator and use it to compute the loss-data curve\n",
    "# pass the VAE as our representation_fn\n",
    "vae_loss_data_estimator = reprieve.LossDataEstimator(\n",
    "    init_fn, train_step_fn, eval_fn, dataset_mnist, \n",
    "    representation_fn=vae_repr)\n",
    "vae_results = vae_loss_data_estimator.compute_curve()"
   ]
  },
  {
   "cell_type": "code",
   "execution_count": 7,
   "metadata": {},
   "outputs": [],
   "source": [
    "# name our experiments and concatenate them\n",
    "raw_results['name'] = 'Raw'\n",
    "vae_results['name'] = 'VAE'\n",
    "\n",
    "outcome_df = pd.concat([\n",
    "    raw_results,\n",
    "    vae_results,\n",
    "])\n",
    "\n",
    "# pick some settings of n (training set size) and epsilon (loss tolerance)\n",
    "ns = [60, 20000]\n",
    "epsilons = [1, 0.2]"
   ]
  },
  {
   "cell_type": "code",
   "execution_count": 15,
   "metadata": {},
   "outputs": [
    {
     "data": {
      "image/png": "[encoded data removed]",
      "text/plain": [
       "alt.LayerChart(...)"
      ]
     },
     "execution_count": 15,
     "metadata": {},
     "output_type": "execute_result"
    }
   ],
   "source": [
    "# plot the loss-data curves for our representations\n",
    "reprieve.render_curve(outcome_df, ns, epsilons)"
   ]
  },
  {
   "cell_type": "code",
   "execution_count": 9,
   "metadata": {},
   "outputs": [
    {
     "data": {
      "text/html": [
       "<div>\n",
       "<style scoped>\n",
       "    .dataframe tbody tr th:only-of-type {\n",
       "        vertical-align: middle;\n",
       "    }\n",
       "\n",
       "    .dataframe tbody tr th {\n",
       "        vertical-align: top;\n",
       "    }\n",
       "\n",
       "    .dataframe thead tr th {\n",
       "        text-align: left;\n",
       "    }\n",
       "</style>\n",
       "<table border=\"1\" class=\"dataframe\">\n",
       "  <thead>\n",
       "    <tr>\n",
       "      <th>Name</th>\n",
       "      <th>Raw</th>\n",
       "      <th>VAE</th>\n",
       "      <th>Raw</th>\n",
       "      <th>VAE</th>\n",
       "    </tr>\n",
       "    <tr>\n",
       "      <th>n</th>\n",
       "      <th>68.0</th>\n",
       "      <th>68.0</th>\n",
       "      <th>20782.0</th>\n",
       "      <th>20782.0</th>\n",
       "    </tr>\n",
       "  </thead>\n",
       "  <tbody>\n",
       "    <tr>\n",
       "      <th>Val loss</th>\n",
       "      <td>1.27876</td>\n",
       "      <td>0.641601</td>\n",
       "      <td>0.111662</td>\n",
       "      <td>0.10363</td>\n",
       "    </tr>\n",
       "    <tr>\n",
       "      <th>MDL</th>\n",
       "      <td>138.93</td>\n",
       "      <td>99.44</td>\n",
       "      <td>3432.78</td>\n",
       "      <td>2652.36</td>\n",
       "    </tr>\n",
       "    <tr>\n",
       "      <th>SDL, eps=1</th>\n",
       "      <td>&gt; 70.93</td>\n",
       "      <td>46.49</td>\n",
       "      <td>70.93</td>\n",
       "      <td>46.49</td>\n",
       "    </tr>\n",
       "    <tr>\n",
       "      <th>SDL, eps=0.2</th>\n",
       "      <td>&gt; 125.33</td>\n",
       "      <td>&gt; 85.84</td>\n",
       "      <td>563.8</td>\n",
       "      <td>176.49</td>\n",
       "    </tr>\n",
       "    <tr>\n",
       "      <th>eSC, eps=1</th>\n",
       "      <td>&gt; 68.0</td>\n",
       "      <td>68</td>\n",
       "      <td>176</td>\n",
       "      <td>68</td>\n",
       "    </tr>\n",
       "    <tr>\n",
       "      <th>eSC, eps=0.2</th>\n",
       "      <td>&gt; 68.0</td>\n",
       "      <td>&gt; 68.0</td>\n",
       "      <td>7998</td>\n",
       "      <td>3078</td>\n",
       "    </tr>\n",
       "  </tbody>\n",
       "</table>\n",
       "</div>"
      ],
      "text/plain": [
       "Name               Raw       VAE       Raw      VAE\n",
       "n              68.0      68.0      20782.0  20782.0\n",
       "Val loss       1.27876  0.641601  0.111662  0.10363\n",
       "MDL             138.93     99.44   3432.78  2652.36\n",
       "SDL, eps=1     > 70.93     46.49     70.93    46.49\n",
       "SDL, eps=0.2  > 125.33   > 85.84     563.8   176.49\n",
       "eSC, eps=1      > 68.0        68       176       68\n",
       "eSC, eps=0.2    > 68.0    > 68.0      7998     3078"
      ]
     },
     "execution_count": 9,
     "metadata": {},
     "output_type": "execute_result"
    }
   ],
   "source": [
    "# compute VA, MDL, SDL, and eSC for both representations\n",
    "metrics_df = reprieve.compute_metrics(outcome_df, ns, epsilons)\n",
    "metrics_df"
   ]
  },
  {
   "cell_type": "code",
   "execution_count": 12,
   "metadata": {},
   "outputs": [
    {
     "data": {
      "application/vnd.jupyter.widget-view+json": {
       "model_id": "fe090c0901ec4ec5949e75ba4b88bad0",
       "version_major": 2,
       "version_minor": 0
      },
      "text/plain": [
       "Output(layout=Layout(border='1px solid black'), outputs=({'output_type': 'stream', 'name': 'stdout', 'text': '…"
      ]
     },
     "metadata": {},
     "output_type": "display_data"
    }
   ],
   "source": [
    "# reprieve even generates LaTeX tables you can paste into a paper\n",
    "latex_text = reprieve.render_latex(metrics_df, display=True)"
   ]
  }
 ],
 "metadata": {
  "kernelspec": {
   "display_name": "Python 3",
   "language": "python",
   "name": "python3"
  },
  "language_info": {
   "codemirror_mode": {
    "name": "ipython",
    "version": 3
   },
   "file_extension": ".py",
   "mimetype": "text/x-python",
   "name": "python",
   "nbconvert_exporter": "python",
   "pygments_lexer": "ipython3",
   "version": "3.7.3"
  }
 },
 "nbformat": 4,
 "nbformat_minor": 2
}
